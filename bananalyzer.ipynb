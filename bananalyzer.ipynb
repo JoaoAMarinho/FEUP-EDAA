{
 "cells": [
  {
   "cell_type": "code",
   "execution_count": 1,
   "metadata": {},
   "outputs": [],
   "source": [
    "from PIL import Image\n",
    "from src.color import Color\n",
    "from src.utils import remove_background\n",
    "from src.utils import INPUT_PATH, OUTPUT_PATH, remove_background\n",
    "from os import listdir\n",
    "from os.path import isfile, join\n",
    "from src.octree import Octree\n",
    "import time"
   ]
  },
  {
   "cell_type": "code",
   "execution_count": 2,
   "metadata": {},
   "outputs": [],
   "source": [
    "REMOVE_BACKGROUND = False"
   ]
  },
  {
   "attachments": {},
   "cell_type": "markdown",
   "metadata": {},
   "source": [
    "## Remove background from images"
   ]
  },
  {
   "cell_type": "code",
   "execution_count": 3,
   "metadata": {},
   "outputs": [],
   "source": [
    "# Remove backgroud from image\n",
    "if (REMOVE_BACKGROUND):\n",
    "    files = [f for f in listdir(INPUT_PATH) if isfile(join(INPUT_PATH, f))]\n",
    "\n",
    "    for idx,img in enumerate(files):\n",
    "        remove_background(img)\n"
   ]
  },
  {
   "attachments": {},
   "cell_type": "markdown",
   "metadata": {},
   "source": [
    "## Load image to octree"
   ]
  },
  {
   "cell_type": "code",
   "execution_count": 4,
   "metadata": {},
   "outputs": [],
   "source": [
    "image = Image.open('./dataset/no_bg/2.png')\n",
    "pixels = image.load()\n",
    "width, height = image.size\n",
    "octree = Octree()\n",
    "\n",
    "# add colors to the octree\n",
    "for j in range(height):\n",
    "    for i in range(width):\n",
    "        octree.add_color(Color(*pixels[i, j]))\n",
    "\n",
    "\n",
    "# 256 colors for 8 bits per pixel output image\n",
    "palette = octree.make_palette(256)\n",
    "\n",
    "# create palette for 256 color max and save to file\n",
    "palette_image = Image.new('RGB', (16, 16))\n",
    "palette_pixels = palette_image.load()\n",
    "\n",
    "for i, color in enumerate(palette):\n",
    "    palette_pixels[i%16, i//16] = (color.red, color.green, color.blue)\n",
    "\n",
    "palette_image.save('./results/2_256_palette.png')\n",
    "\n",
    "# save output image\n",
    "out_image = Image.new('RGB', (width, height))\n",
    "out_pixels = out_image.load()\n",
    "\n",
    "for j in range(height):\n",
    "    for i in range(width):\n",
    "        index = octree.get_palette_index(Color(*pixels[i, j]))\n",
    "        color = palette[index]\n",
    "        out_pixels[i, j] = (color.red, color.green, color.blue)\n",
    "out_image.save('./results/2_256_out.png')"
   ]
  },
  {
   "cell_type": "code",
   "execution_count": 5,
   "metadata": {},
   "outputs": [],
   "source": [
    "\n",
    "octree = Octree()\n",
    "\n",
    "# add colors to the octree\n",
    "for j in range(height):\n",
    "    for i in range(width):\n",
    "        octree.add_color(Color(*pixels[i, j]))\n",
    "\n",
    "\n",
    "# 256 colors for 8 bits per pixel output image\n",
    "palette = octree.make_palette_2(256)\n",
    "\n",
    "# create palette for 256 color max and save to file\n",
    "palette_image = Image.new('RGB', (16, 16))\n",
    "palette_pixels = palette_image.load()\n",
    "\n",
    "for i, color in enumerate(palette):\n",
    "    palette_pixels[i%16, i//16] = (color.red, color.green, color.blue)\n",
    "\n",
    "palette_image.save('./results/2_256_palette_2.png')\n",
    "\n",
    "# save output image\n",
    "out_image = Image.new('RGB', (width, height))\n",
    "out_pixels = out_image.load()\n",
    "\n",
    "for j in range(height):\n",
    "    for i in range(width):\n",
    "        index = octree.get_palette_index(Color(*pixels[i, j]))\n",
    "        color = palette[index]\n",
    "        out_pixels[i, j] = (color.red, color.green, color.blue)\n",
    "out_image.save('./results/2_256_out_2.png')"
   ]
  }
 ],
 "metadata": {
  "kernelspec": {
   "display_name": "Python 3",
   "language": "python",
   "name": "python3"
  },
  "language_info": {
   "codemirror_mode": {
    "name": "ipython",
    "version": 3
   },
   "file_extension": ".py",
   "mimetype": "text/x-python",
   "name": "python",
   "nbconvert_exporter": "python",
   "pygments_lexer": "ipython3",
   "version": "3.10.7"
  },
  "orig_nbformat": 4
 },
 "nbformat": 4,
 "nbformat_minor": 2
}
