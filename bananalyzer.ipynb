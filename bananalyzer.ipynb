{
 "cells": [
  {
   "cell_type": "code",
   "execution_count": 1,
   "metadata": {},
   "outputs": [],
   "source": [
    "from src.utils import *\n",
    "import pandas as pd\n",
    "from datetime import datetime\n",
    "from tqdm import tqdm"
   ]
  },
  {
   "cell_type": "code",
   "execution_count": 6,
   "metadata": {},
   "outputs": [],
   "source": [
    "REMOVE_BACKGROUND = True\n",
    "OPTMIZED = True"
   ]
  },
  {
   "attachments": {},
   "cell_type": "markdown",
   "metadata": {},
   "source": [
    "## Remove background from images"
   ]
  },
  {
   "cell_type": "code",
   "execution_count": 7,
   "metadata": {},
   "outputs": [],
   "source": [
    "# Remove backgroud from image\n",
    "if (REMOVE_BACKGROUND):\n",
    "    remove_backgrounds()"
   ]
  },
  {
   "attachments": {},
   "cell_type": "markdown",
   "metadata": {},
   "source": [
    "## Octree algorithm"
   ]
  },
  {
   "attachments": {},
   "cell_type": "markdown",
   "metadata": {},
   "source": [
    "### Octree image color quantization example"
   ]
  },
  {
   "cell_type": "code",
   "execution_count": 13,
   "metadata": {},
   "outputs": [],
   "source": [
    "octree, img_info = create_octree_from_image('2.png', 6)\n",
    "\n",
    "# make palette for specified number of colors\n",
    "if (OPTMIZED):\n",
    "    octree.make_optimized_palette(256)\n",
    "else:\n",
    "    octree.make_palette(256)\n",
    "\n",
    "\n",
    "# create palette for 256 color max and save to file\n",
    "create_palette_image(octree, 'example_palette.png')\n",
    "\n",
    "# save output image\n",
    "save_quantized_image(octree, 'example_quantized.png', img_info)\n",
    "\n",
    "# get the node id set\n",
    "# which allows to calculate the Jaccard similarity coefficient between two images\n",
    "id_set = octree.node_id_set()"
   ]
  },
  {
   "attachments": {},
   "cell_type": "markdown",
   "metadata": {},
   "source": [
    "## Comparison Pipeline"
   ]
  },
  {
   "cell_type": "code",
   "execution_count": 2,
   "metadata": {},
   "outputs": [],
   "source": [
    "RIPENESS_LEVELS = ['unripe', 'barely ripe', 'ripe', 'overripe']\n",
    "DEPTH_LEVELS = [4, 6, 8]\n",
    "PALETTE_SIZES = [64, 256, 512]"
   ]
  },
  {
   "attachments": {},
   "cell_type": "markdown",
   "metadata": {},
   "source": [
    "### Train Test split"
   ]
  },
  {
   "cell_type": "code",
   "execution_count": 3,
   "metadata": {},
   "outputs": [],
   "source": [
    "from sklearn.model_selection import train_test_split\n",
    "\n",
    "# Extract features and generate balanced train test splits\n",
    "X, y = create_features_labels(RIPENESS_LEVELS)\n",
    "X_train, X_test, y_train, y_test = train_test_split(X, y, test_size=0.2, stratify=y, random_state=42)"
   ]
  },
  {
   "cell_type": "code",
   "execution_count": 7,
   "metadata": {},
   "outputs": [
    {
     "ename": "KeyboardInterrupt",
     "evalue": "",
     "output_type": "error",
     "traceback": [
      "\u001b[1;31m---------------------------------------------------------------------------\u001b[0m",
      "\u001b[1;31mKeyboardInterrupt\u001b[0m                         Traceback (most recent call last)",
      "\u001b[1;32md:\\Escola\\Faculdade\\4_Ano\\2_Semestre\\EDAA\\TP2\\Project\\bananalyzer.ipynb Cell 12\u001b[0m in \u001b[0;36m1\n\u001b[1;32m----> <a href='vscode-notebook-cell:/d%3A/Escola/Faculdade/4_Ano/2_Semestre/EDAA/TP2/Project/bananalyzer.ipynb#X33sZmlsZQ%3D%3D?line=0'>1</a>\u001b[0m sample_dict \u001b[39m=\u001b[39m { filename: create_node_id_set_from_image(filename, OPTMIZED, depth\u001b[39m=\u001b[39m\u001b[39m6\u001b[39m, palette_size\u001b[39m=\u001b[39m\u001b[39m256\u001b[39m) \n\u001b[0;32m      <a href='vscode-notebook-cell:/d%3A/Escola/Faculdade/4_Ano/2_Semestre/EDAA/TP2/Project/bananalyzer.ipynb#X33sZmlsZQ%3D%3D?line=1'>2</a>\u001b[0m                 \u001b[39mfor\u001b[39;00m filename \u001b[39min\u001b[39;00m X_train }\n",
      "\u001b[1;32md:\\Escola\\Faculdade\\4_Ano\\2_Semestre\\EDAA\\TP2\\Project\\bananalyzer.ipynb Cell 12\u001b[0m in \u001b[0;36m1\n\u001b[1;32m----> <a href='vscode-notebook-cell:/d%3A/Escola/Faculdade/4_Ano/2_Semestre/EDAA/TP2/Project/bananalyzer.ipynb#X33sZmlsZQ%3D%3D?line=0'>1</a>\u001b[0m sample_dict \u001b[39m=\u001b[39m { filename: create_node_id_set_from_image(filename, OPTMIZED, depth\u001b[39m=\u001b[39;49m\u001b[39m6\u001b[39;49m, palette_size\u001b[39m=\u001b[39;49m\u001b[39m256\u001b[39;49m) \n\u001b[0;32m      <a href='vscode-notebook-cell:/d%3A/Escola/Faculdade/4_Ano/2_Semestre/EDAA/TP2/Project/bananalyzer.ipynb#X33sZmlsZQ%3D%3D?line=1'>2</a>\u001b[0m                 \u001b[39mfor\u001b[39;00m filename \u001b[39min\u001b[39;00m X_train }\n",
      "File \u001b[1;32md:\\Escola\\Faculdade\\4_Ano\\2_Semestre\\EDAA\\TP2\\Project\\src\\utils.py:82\u001b[0m, in \u001b[0;36mcreate_node_id_set_from_image\u001b[1;34m(filename, optimized, depth, palette_size)\u001b[0m\n\u001b[0;32m     81\u001b[0m \u001b[39mdef\u001b[39;00m \u001b[39mcreate_node_id_set_from_image\u001b[39m(filename, optimized\u001b[39m=\u001b[39m\u001b[39mTrue\u001b[39;00m, depth\u001b[39m=\u001b[39m\u001b[39m6\u001b[39m, palette_size\u001b[39m=\u001b[39m\u001b[39m256\u001b[39m):\n\u001b[1;32m---> 82\u001b[0m     octree, _ \u001b[39m=\u001b[39m create_octree_from_image(filename, depth)\n\u001b[0;32m     83\u001b[0m     \u001b[39mif\u001b[39;00m (optimized):\n\u001b[0;32m     84\u001b[0m       octree\u001b[39m.\u001b[39mmake_optimized_palette(palette_size)\n",
      "File \u001b[1;32md:\\Escola\\Faculdade\\4_Ano\\2_Semestre\\EDAA\\TP2\\Project\\src\\utils.py:45\u001b[0m, in \u001b[0;36mcreate_octree_from_image\u001b[1;34m(filename, depth)\u001b[0m\n\u001b[0;32m     44\u001b[0m \u001b[39mdef\u001b[39;00m \u001b[39mcreate_octree_from_image\u001b[39m(filename, depth):\n\u001b[1;32m---> 45\u001b[0m     image \u001b[39m=\u001b[39m Image\u001b[39m.\u001b[39;49mopen(NO_BG_PATH \u001b[39m+\u001b[39;49m filename)\n\u001b[0;32m     46\u001b[0m     pixels \u001b[39m=\u001b[39m image\u001b[39m.\u001b[39mload()\n\u001b[0;32m     47\u001b[0m     width, height \u001b[39m=\u001b[39m image\u001b[39m.\u001b[39msize\n",
      "File \u001b[1;32mc:\\Users\\joaoa\\AppData\\Local\\Programs\\Python\\Python310\\lib\\site-packages\\PIL\\Image.py:3236\u001b[0m, in \u001b[0;36mopen\u001b[1;34m(fp, mode, formats)\u001b[0m\n\u001b[0;32m   3233\u001b[0m     filename \u001b[39m=\u001b[39m fp\n\u001b[0;32m   3235\u001b[0m \u001b[39mif\u001b[39;00m filename:\n\u001b[1;32m-> 3236\u001b[0m     fp \u001b[39m=\u001b[39m builtins\u001b[39m.\u001b[39;49mopen(filename, \u001b[39m\"\u001b[39;49m\u001b[39mrb\u001b[39;49m\u001b[39m\"\u001b[39;49m)\n\u001b[0;32m   3237\u001b[0m     exclusive_fp \u001b[39m=\u001b[39m \u001b[39mTrue\u001b[39;00m\n\u001b[0;32m   3239\u001b[0m \u001b[39mtry\u001b[39;00m:\n",
      "\u001b[1;31mKeyboardInterrupt\u001b[0m: "
     ]
    }
   ],
   "source": [
    "sample_dict = { filename: create_node_id_set_from_image(filename, OPTMIZED, depth=6, palette_size=256) \n",
    "                for filename in X_train }"
   ]
  },
  {
   "attachments": {},
   "cell_type": "markdown",
   "metadata": {},
   "source": [
    "### CSV Split"
   ]
  },
  {
   "cell_type": "code",
   "execution_count": 10,
   "metadata": {},
   "outputs": [],
   "source": [
    "# Instantiate sample values\n",
    "samples_df = pd.read_csv('./dataset/samples.csv')\n",
    "sample_dict = { filename: create_node_id_set_from_image(filename, OPTMIZED, depth=6, palette_size=256) \n",
    "                for filename in samples_df['Filename'].values }"
   ]
  },
  {
   "cell_type": "code",
   "execution_count": 12,
   "metadata": {},
   "outputs": [],
   "source": [
    "# Read test values\n",
    "test_df = pd.read_csv('./dataset/test.csv')\n",
    "test_dict = { filename: create_node_id_set_from_image(filename, OPTMIZED, depth=6, palette_size=256) \n",
    "                for filename in test_df['Filename'].values }"
   ]
  },
  {
   "attachments": {},
   "cell_type": "markdown",
   "metadata": {},
   "source": [
    "### Make Predictions"
   ]
  },
  {
   "cell_type": "code",
   "execution_count": 13,
   "metadata": {},
   "outputs": [
    {
     "name": "stderr",
     "output_type": "stream",
     "text": [
      "  0%|          | 0/10 [00:00<?, ?it/s]C:\\Users\\joaoa\\AppData\\Local\\Temp\\ipykernel_17692\\3381989897.py:14: FutureWarning: The frame.append method is deprecated and will be removed from pandas in a future version. Use pandas.concat instead.\n",
      "  predictions_df = predictions_df.append({'Filename' : test_filename, 'Label': label}, ignore_index = True)\n",
      "C:\\Users\\joaoa\\AppData\\Local\\Temp\\ipykernel_17692\\3381989897.py:14: FutureWarning: The frame.append method is deprecated and will be removed from pandas in a future version. Use pandas.concat instead.\n",
      "  predictions_df = predictions_df.append({'Filename' : test_filename, 'Label': label}, ignore_index = True)\n",
      "C:\\Users\\joaoa\\AppData\\Local\\Temp\\ipykernel_17692\\3381989897.py:14: FutureWarning: The frame.append method is deprecated and will be removed from pandas in a future version. Use pandas.concat instead.\n",
      "  predictions_df = predictions_df.append({'Filename' : test_filename, 'Label': label}, ignore_index = True)\n",
      "C:\\Users\\joaoa\\AppData\\Local\\Temp\\ipykernel_17692\\3381989897.py:14: FutureWarning: The frame.append method is deprecated and will be removed from pandas in a future version. Use pandas.concat instead.\n",
      "  predictions_df = predictions_df.append({'Filename' : test_filename, 'Label': label}, ignore_index = True)\n",
      "C:\\Users\\joaoa\\AppData\\Local\\Temp\\ipykernel_17692\\3381989897.py:14: FutureWarning: The frame.append method is deprecated and will be removed from pandas in a future version. Use pandas.concat instead.\n",
      "  predictions_df = predictions_df.append({'Filename' : test_filename, 'Label': label}, ignore_index = True)\n",
      "C:\\Users\\joaoa\\AppData\\Local\\Temp\\ipykernel_17692\\3381989897.py:14: FutureWarning: The frame.append method is deprecated and will be removed from pandas in a future version. Use pandas.concat instead.\n",
      "  predictions_df = predictions_df.append({'Filename' : test_filename, 'Label': label}, ignore_index = True)\n",
      "C:\\Users\\joaoa\\AppData\\Local\\Temp\\ipykernel_17692\\3381989897.py:14: FutureWarning: The frame.append method is deprecated and will be removed from pandas in a future version. Use pandas.concat instead.\n",
      "  predictions_df = predictions_df.append({'Filename' : test_filename, 'Label': label}, ignore_index = True)\n",
      "C:\\Users\\joaoa\\AppData\\Local\\Temp\\ipykernel_17692\\3381989897.py:14: FutureWarning: The frame.append method is deprecated and will be removed from pandas in a future version. Use pandas.concat instead.\n",
      "  predictions_df = predictions_df.append({'Filename' : test_filename, 'Label': label}, ignore_index = True)\n",
      "C:\\Users\\joaoa\\AppData\\Local\\Temp\\ipykernel_17692\\3381989897.py:14: FutureWarning: The frame.append method is deprecated and will be removed from pandas in a future version. Use pandas.concat instead.\n",
      "  predictions_df = predictions_df.append({'Filename' : test_filename, 'Label': label}, ignore_index = True)\n",
      "C:\\Users\\joaoa\\AppData\\Local\\Temp\\ipykernel_17692\\3381989897.py:14: FutureWarning: The frame.append method is deprecated and will be removed from pandas in a future version. Use pandas.concat instead.\n",
      "  predictions_df = predictions_df.append({'Filename' : test_filename, 'Label': label}, ignore_index = True)\n",
      "100%|██████████| 10/10 [00:00<00:00, 121.95it/s]"
     ]
    },
    {
     "name": "stdout",
     "output_type": "stream",
     "text": [
      "1.png vs unripe: 0.07325383304940375\n",
      "1.png vs barely ripe: 0.2707509881422925\n",
      "1.png vs ripe: 0.3490364025695932\n",
      "1.png vs very ripe: 0.41309255079006774\n",
      "1.png vs rotten: 0.3672566371681416\n",
      "2.png vs unripe: 0.08623548922056384\n",
      "2.png vs barely ripe: 0.20795660036166366\n",
      "2.png vs ripe: 0.2335216572504708\n",
      "2.png vs very ripe: 0.1944954128440367\n",
      "2.png vs rotten: 0.2294455066921606\n",
      "3.png vs unripe: 0.16544117647058823\n",
      "3.png vs barely ripe: 0.403470715835141\n",
      "3.png vs ripe: 0.3693304535637149\n",
      "3.png vs very ripe: 0.1864406779661017\n",
      "3.png vs rotten: 0.21484375\n",
      "4.png vs unripe: 0.1282952548330404\n",
      "4.png vs barely ripe: 0.3731656184486373\n",
      "4.png vs ripe: 0.3572938689217759\n",
      "4.png vs very ripe: 0.268389662027833\n",
      "4.png vs rotten: 0.2883435582822086\n",
      "5.png vs unripe: 0.14575645756457564\n",
      "5.png vs barely ripe: 0.2938775510204082\n",
      "5.png vs ripe: 0.35\n",
      "5.png vs very ripe: 0.26954732510288065\n",
      "5.png vs rotten: 0.27941176470588236\n",
      "6.png vs unripe: 0.12186379928315412\n",
      "6.png vs barely ripe: 0.3094262295081967\n",
      "6.png vs ripe: 0.32908704883227174\n",
      "6.png vs very ripe: 0.367032967032967\n",
      "6.png vs rotten: 0.3008474576271186\n",
      "10.png vs unripe: 0.16353383458646617\n",
      "10.png vs barely ripe: 0.4331065759637188\n",
      "10.png vs ripe: 0.2429718875502008\n",
      "10.png vs very ripe: 0.1941747572815534\n",
      "10.png vs rotten: 0.19723865877712032\n",
      "11.png vs unripe: 0.12678571428571428\n",
      "11.png vs barely ripe: 0.350104821802935\n",
      "11.png vs ripe: 0.3599137931034483\n",
      "11.png vs very ripe: 0.34549356223175964\n",
      "11.png vs rotten: 0.29227557411273486\n",
      "17.png vs unripe: 0.19600725952813067\n",
      "17.png vs barely ripe: 0.3884297520661157\n",
      "17.png vs ripe: 0.2746615087040619\n",
      "17.png vs very ripe: 0.25\n",
      "17.png vs rotten: 0.27613412228796846\n",
      "14.png vs unripe: 0.09473684210526316\n",
      "14.png vs barely ripe: 0.2613861386138614\n",
      "14.png vs ripe: 0.3805309734513274\n",
      "14.png vs very ripe: 0.4485981308411215\n",
      "14.png vs rotten: 0.2697095435684647\n"
     ]
    },
    {
     "name": "stderr",
     "output_type": "stream",
     "text": [
      "\n"
     ]
    }
   ],
   "source": [
    "predictions_df = pd.DataFrame(columns = ['Filename', 'Label'])\n",
    "\n",
    "for test_filename, test_id_set in tqdm(test_dict.items()):\n",
    "    ripeness_comparisons = {}\n",
    "    for ripeness_level in RIPENESS_LEVELS:\n",
    "        ripeness_list = []\n",
    "        for sample_filename in samples_df[samples_df['Label'] == ripeness_level]['Filename'].values:\n",
    "            sample_id_set = sample_dict[sample_filename]\n",
    "            ripeness_list.append(jaccard_similarity_coefficient(sample_id_set, test_id_set))\n",
    "        ripeness_comparisons[ripeness_level] = (sum(ripeness_list) / len(ripeness_list))\n",
    "        # print(f'{test_filename} vs {ripeness_level}: {ripeness_comparisons[ripeness_level]}')\n",
    "    \n",
    "    label = max(ripeness_comparisons, key=ripeness_comparisons.get)\n",
    "    predictions_df = predictions_df.append({'Filename' : test_filename, 'Label': label}, ignore_index = True)\n",
    "\n",
    "current_datetime = datetime.now().strftime(\"%d_%m__%H_%M\")\n",
    "predictions_df.to_csv(f'./dataset/predictions/predictions_{current_datetime}.csv', index=False)"
   ]
  },
  {
   "attachments": {},
   "cell_type": "markdown",
   "metadata": {},
   "source": [
    "### Calculate accuracy"
   ]
  },
  {
   "cell_type": "code",
   "execution_count": 14,
   "metadata": {},
   "outputs": [
    {
     "name": "stdout",
     "output_type": "stream",
     "text": [
      "Accuracy: 0.2\n"
     ]
    }
   ],
   "source": [
    "# Calculate accuracy\n",
    "correct_predictions = 0\n",
    "for index, row in predictions_df.iterrows():\n",
    "    if (row['Label'] == test_df[test_df['Filename'] == row['Filename']]['Label'].values[0]):\n",
    "        correct_predictions += 1\n",
    "\n",
    "accuracy = correct_predictions / len(predictions_df)\n",
    "print(f'Accuracy: {accuracy}')"
   ]
  },
  {
   "attachments": {},
   "cell_type": "markdown",
   "metadata": {},
   "source": [
    "### Compare palette sizes and depth levels"
   ]
  },
  {
   "cell_type": "code",
   "execution_count": 25,
   "metadata": {},
   "outputs": [
    {
     "name": "stdout",
     "output_type": "stream",
     "text": [
      "DEPTH: 4 & PALETTE SIZE: 64\n",
      "Instantiating sample values...\n",
      "Instantiating test values...\n",
      "Predicting...\n"
     ]
    },
    {
     "name": "stderr",
     "output_type": "stream",
     "text": [
      "  0%|          | 0/1 [00:00<?, ?it/s]/var/folders/04/05jdn06x4bd37twbh8c046nr0000gn/T/ipykernel_1662/3708550205.py:30: FutureWarning: The frame.append method is deprecated and will be removed from pandas in a future version. Use pandas.concat instead.\n",
      "  predictions_df = predictions_df.append({\n",
      "100%|██████████| 1/1 [00:00<00:00, 696.84it/s]"
     ]
    },
    {
     "name": "stdout",
     "output_type": "stream",
     "text": [
      "DEPTH: 4 & PALETTE SIZE: 256\n",
      "Instantiating sample values...\n"
     ]
    },
    {
     "name": "stderr",
     "output_type": "stream",
     "text": [
      "\n"
     ]
    },
    {
     "name": "stdout",
     "output_type": "stream",
     "text": [
      "Instantiating test values...\n",
      "Predicting...\n"
     ]
    },
    {
     "name": "stderr",
     "output_type": "stream",
     "text": [
      "  0%|          | 0/1 [00:00<?, ?it/s]/var/folders/04/05jdn06x4bd37twbh8c046nr0000gn/T/ipykernel_1662/3708550205.py:30: FutureWarning: The frame.append method is deprecated and will be removed from pandas in a future version. Use pandas.concat instead.\n",
      "  predictions_df = predictions_df.append({\n",
      "100%|██████████| 1/1 [00:00<00:00, 494.84it/s]"
     ]
    },
    {
     "name": "stdout",
     "output_type": "stream",
     "text": [
      "DEPTH: 4 & PALETTE SIZE: 512\n",
      "Instantiating sample values...\n"
     ]
    },
    {
     "name": "stderr",
     "output_type": "stream",
     "text": [
      "\n"
     ]
    },
    {
     "name": "stdout",
     "output_type": "stream",
     "text": [
      "Instantiating test values...\n",
      "Predicting...\n"
     ]
    },
    {
     "name": "stderr",
     "output_type": "stream",
     "text": [
      "  0%|          | 0/1 [00:00<?, ?it/s]/var/folders/04/05jdn06x4bd37twbh8c046nr0000gn/T/ipykernel_1662/3708550205.py:30: FutureWarning: The frame.append method is deprecated and will be removed from pandas in a future version. Use pandas.concat instead.\n",
      "  predictions_df = predictions_df.append({\n",
      "100%|██████████| 1/1 [00:00<00:00, 681.23it/s]"
     ]
    },
    {
     "name": "stdout",
     "output_type": "stream",
     "text": [
      "DEPTH: 6 & PALETTE SIZE: 64\n",
      "Instantiating sample values...\n"
     ]
    },
    {
     "name": "stderr",
     "output_type": "stream",
     "text": [
      "\n"
     ]
    },
    {
     "name": "stdout",
     "output_type": "stream",
     "text": [
      "Instantiating test values...\n",
      "Predicting...\n"
     ]
    },
    {
     "name": "stderr",
     "output_type": "stream",
     "text": [
      "  0%|          | 0/1 [00:00<?, ?it/s]/var/folders/04/05jdn06x4bd37twbh8c046nr0000gn/T/ipykernel_1662/3708550205.py:30: FutureWarning: The frame.append method is deprecated and will be removed from pandas in a future version. Use pandas.concat instead.\n",
      "  predictions_df = predictions_df.append({\n",
      "100%|██████████| 1/1 [00:00<00:00, 710.18it/s]"
     ]
    },
    {
     "name": "stdout",
     "output_type": "stream",
     "text": [
      "DEPTH: 6 & PALETTE SIZE: 256\n",
      "Instantiating sample values...\n"
     ]
    },
    {
     "name": "stderr",
     "output_type": "stream",
     "text": [
      "\n"
     ]
    },
    {
     "name": "stdout",
     "output_type": "stream",
     "text": [
      "Instantiating test values...\n",
      "Predicting...\n"
     ]
    },
    {
     "name": "stderr",
     "output_type": "stream",
     "text": [
      "  0%|          | 0/1 [00:00<?, ?it/s]/var/folders/04/05jdn06x4bd37twbh8c046nr0000gn/T/ipykernel_1662/3708550205.py:30: FutureWarning: The frame.append method is deprecated and will be removed from pandas in a future version. Use pandas.concat instead.\n",
      "  predictions_df = predictions_df.append({\n",
      "100%|██████████| 1/1 [00:00<00:00, 649.88it/s]"
     ]
    },
    {
     "name": "stdout",
     "output_type": "stream",
     "text": [
      "DEPTH: 6 & PALETTE SIZE: 512\n",
      "Instantiating sample values...\n"
     ]
    },
    {
     "name": "stderr",
     "output_type": "stream",
     "text": [
      "\n"
     ]
    },
    {
     "name": "stdout",
     "output_type": "stream",
     "text": [
      "Instantiating test values...\n",
      "Predicting...\n"
     ]
    },
    {
     "name": "stderr",
     "output_type": "stream",
     "text": [
      "  0%|          | 0/1 [00:00<?, ?it/s]/var/folders/04/05jdn06x4bd37twbh8c046nr0000gn/T/ipykernel_1662/3708550205.py:30: FutureWarning: The frame.append method is deprecated and will be removed from pandas in a future version. Use pandas.concat instead.\n",
      "  predictions_df = predictions_df.append({\n",
      "100%|██████████| 1/1 [00:00<00:00, 537.39it/s]"
     ]
    },
    {
     "name": "stdout",
     "output_type": "stream",
     "text": [
      "DEPTH: 8 & PALETTE SIZE: 64\n",
      "Instantiating sample values...\n"
     ]
    },
    {
     "name": "stderr",
     "output_type": "stream",
     "text": [
      "\n"
     ]
    },
    {
     "name": "stdout",
     "output_type": "stream",
     "text": [
      "Instantiating test values...\n",
      "Predicting...\n"
     ]
    },
    {
     "name": "stderr",
     "output_type": "stream",
     "text": [
      "  0%|          | 0/1 [00:00<?, ?it/s]/var/folders/04/05jdn06x4bd37twbh8c046nr0000gn/T/ipykernel_1662/3708550205.py:30: FutureWarning: The frame.append method is deprecated and will be removed from pandas in a future version. Use pandas.concat instead.\n",
      "  predictions_df = predictions_df.append({\n",
      "100%|██████████| 1/1 [00:00<00:00, 705.16it/s]"
     ]
    },
    {
     "name": "stdout",
     "output_type": "stream",
     "text": [
      "DEPTH: 8 & PALETTE SIZE: 256\n",
      "Instantiating sample values...\n"
     ]
    },
    {
     "name": "stderr",
     "output_type": "stream",
     "text": [
      "\n"
     ]
    },
    {
     "name": "stdout",
     "output_type": "stream",
     "text": [
      "Instantiating test values...\n",
      "Predicting...\n"
     ]
    },
    {
     "name": "stderr",
     "output_type": "stream",
     "text": [
      "  0%|          | 0/1 [00:00<?, ?it/s]/var/folders/04/05jdn06x4bd37twbh8c046nr0000gn/T/ipykernel_1662/3708550205.py:30: FutureWarning: The frame.append method is deprecated and will be removed from pandas in a future version. Use pandas.concat instead.\n",
      "  predictions_df = predictions_df.append({\n",
      "100%|██████████| 1/1 [00:00<00:00, 665.66it/s]"
     ]
    },
    {
     "name": "stdout",
     "output_type": "stream",
     "text": [
      "DEPTH: 8 & PALETTE SIZE: 512\n",
      "Instantiating sample values...\n"
     ]
    },
    {
     "name": "stderr",
     "output_type": "stream",
     "text": [
      "\n"
     ]
    },
    {
     "name": "stdout",
     "output_type": "stream",
     "text": [
      "Instantiating test values...\n",
      "Predicting...\n"
     ]
    },
    {
     "name": "stderr",
     "output_type": "stream",
     "text": [
      "  0%|          | 0/1 [00:00<?, ?it/s]/var/folders/04/05jdn06x4bd37twbh8c046nr0000gn/T/ipykernel_1662/3708550205.py:30: FutureWarning: The frame.append method is deprecated and will be removed from pandas in a future version. Use pandas.concat instead.\n",
      "  predictions_df = predictions_df.append({\n",
      "100%|██████████| 1/1 [00:00<00:00, 657.52it/s]\n"
     ]
    }
   ],
   "source": [
    "predictions_df = pd.DataFrame(columns = ['Filename', 'Label', 'Depth', 'PaletteSize', 'Unripe', 'Barely Ripe', 'Ripe', 'Very Ripe', 'Rotten'])\n",
    "\n",
    "for depth in DEPTH_LEVELS:\n",
    "      for palette_size in PALETTE_SIZES:\n",
    "        print(f'DEPTH: {depth} & PALETTE SIZE: {palette_size}')\n",
    "\n",
    "        # Instantiate sample values\n",
    "        print('Instantiating sample values...')\n",
    "        samples_df = pd.read_csv('./dataset/samples.csv')\n",
    "        sample_dict = { filename: create_node_id_set_from_image(filename, OPTMIZED, depth, palette_size) \n",
    "                        for filename in samples_df['Filename'].values }\n",
    "        \n",
    "        # Read test values\n",
    "        print('Instantiating test values...')\n",
    "        test_df = pd.read_csv('./dataset/test.csv')\n",
    "        test_dict = { filename: create_node_id_set_from_image(filename, OPTMIZED, depth, palette_size) \n",
    "                        for filename in test_df['Filename'].values }\n",
    "        \n",
    "        print('Predicting...')\n",
    "        for test_filename, test_id_set in tqdm(test_dict.items()):\n",
    "            ripeness_comparisons = {}\n",
    "            for ripeness_level in RIPENESS_LEVELS:\n",
    "                ripeness_list = []\n",
    "                for sample_filename in samples_df[samples_df['Label'] == ripeness_level]['Filename'].values:\n",
    "                    sample_id_set = sample_dict[sample_filename]\n",
    "                    ripeness_list.append(jaccard_similarity_coefficient(sample_id_set, test_id_set))\n",
    "                ripeness_comparisons[ripeness_level] = (sum(ripeness_list) / len(ripeness_list))\n",
    "            \n",
    "            label = max(ripeness_comparisons, key=ripeness_comparisons.get)\n",
    "            predictions_df = predictions_df.append({\n",
    "                'Filename' : test_filename, \n",
    "                'Label': label, \n",
    "                'Depth': depth, \n",
    "                'PaletteSize': palette_size, \n",
    "                'Unripe': ripeness_comparisons['unripe'],\n",
    "                'Ripe': ripeness_comparisons['ripe'],\n",
    "                'Rotten': ripeness_comparisons['rotten']\n",
    "            }, ignore_index = True)\n",
    "            \n",
    "current_datetime = datetime.now().strftime(\"%d_%m__%H_%M\")\n",
    "predictions_df.to_csv(f'./dataset/predictions/comparisons/predictions_{current_datetime}.csv', index=False)"
   ]
  }
 ],
 "metadata": {
  "kernelspec": {
   "display_name": "Python 3",
   "language": "python",
   "name": "python3"
  },
  "language_info": {
   "codemirror_mode": {
    "name": "ipython",
    "version": 3
   },
   "file_extension": ".py",
   "mimetype": "text/x-python",
   "name": "python",
   "nbconvert_exporter": "python",
   "pygments_lexer": "ipython3",
   "version": "3.10.5"
  },
  "orig_nbformat": 4
 },
 "nbformat": 4,
 "nbformat_minor": 2
}
