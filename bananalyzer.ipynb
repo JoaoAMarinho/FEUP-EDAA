{
 "cells": [
  {
   "cell_type": "code",
   "execution_count": 1,
   "metadata": {},
   "outputs": [],
   "source": [
    "from src.utils import remove_backgrounds, create_octree_from_image, create_palette_image, save_quantized_image, jaccard_similarity_coefficient\n",
    "import pandas as pd"
   ]
  },
  {
   "cell_type": "code",
   "execution_count": 2,
   "metadata": {},
   "outputs": [],
   "source": [
    "REMOVE_BACKGROUND = False\n",
    "OPTMIZED = True"
   ]
  },
  {
   "attachments": {},
   "cell_type": "markdown",
   "metadata": {},
   "source": [
    "## Remove background from images"
   ]
  },
  {
   "cell_type": "code",
   "execution_count": 3,
   "metadata": {},
   "outputs": [],
   "source": [
    "# Remove backgroud from image\n",
    "if (REMOVE_BACKGROUND):\n",
    "    remove_backgrounds()"
   ]
  },
  {
   "attachments": {},
   "cell_type": "markdown",
   "metadata": {},
   "source": [
    "## Octree algorithm"
   ]
  },
  {
   "attachments": {},
   "cell_type": "markdown",
   "metadata": {},
   "source": [
    "### Octree image color quantization example"
   ]
  },
  {
   "cell_type": "code",
   "execution_count": 4,
   "metadata": {},
   "outputs": [],
   "source": [
    "octree, img_info = create_octree_from_image('2.png', 6)\n",
    "\n",
    "# make palette for specified number of colors\n",
    "if (OPTMIZED):\n",
    "    octree.make_optimized_palette(256)\n",
    "else:\n",
    "    octree.make_palette(256)\n",
    "\n",
    "\n",
    "# create palette for 256 color max and save to file\n",
    "create_palette_image(octree, 'example_palette.png')\n",
    "\n",
    "# save output image\n",
    "save_quantized_image(octree, 'example_quantized.png', img_info)\n",
    "\n",
    "# get the node id set\n",
    "# which allows to calculate the Jaccard similarity coefficient between two images\n",
    "id_set = octree.node_id_set()"
   ]
  },
  {
   "attachments": {},
   "cell_type": "markdown",
   "metadata": {},
   "source": [
    "### Comparison Pipeline"
   ]
  },
  {
   "cell_type": "code",
   "execution_count": null,
   "metadata": {},
   "outputs": [],
   "source": [
    "# Read sample sets\n",
    "samples = pd.read_csv('./dataset/sample.csv', header=None)"
   ]
  }
 ],
 "metadata": {
  "kernelspec": {
   "display_name": "Python 3",
   "language": "python",
   "name": "python3"
  },
  "language_info": {
   "codemirror_mode": {
    "name": "ipython",
    "version": 3
   },
   "file_extension": ".py",
   "mimetype": "text/x-python",
   "name": "python",
   "nbconvert_exporter": "python",
   "pygments_lexer": "ipython3",
   "version": "3.10.5"
  },
  "orig_nbformat": 4
 },
 "nbformat": 4,
 "nbformat_minor": 2
}
