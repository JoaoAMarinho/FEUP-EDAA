{
 "cells": [
  {
   "cell_type": "code",
   "execution_count": 1,
   "metadata": {},
   "outputs": [],
   "source": [
    "from src.utils import *\n",
    "import pandas as pd\n",
    "from datetime import datetime\n",
    "from tqdm import tqdm"
   ]
  },
  {
   "cell_type": "code",
   "execution_count": 2,
   "metadata": {},
   "outputs": [],
   "source": [
    "REMOVE_BACKGROUND = True\n",
    "OPTMIZED = True"
   ]
  },
  {
   "attachments": {},
   "cell_type": "markdown",
   "metadata": {},
   "source": [
    "## Remove background from images"
   ]
  },
  {
   "cell_type": "code",
   "execution_count": 10,
   "metadata": {},
   "outputs": [],
   "source": [
    "# Remove backgroud from image\n",
    "if (REMOVE_BACKGROUND):\n",
    "    remove_backgrounds()"
   ]
  },
  {
   "attachments": {},
   "cell_type": "markdown",
   "metadata": {},
   "source": [
    "## Octree algorithm"
   ]
  },
  {
   "attachments": {},
   "cell_type": "markdown",
   "metadata": {},
   "source": [
    "### Octree image color quantization example"
   ]
  },
  {
   "cell_type": "code",
   "execution_count": 4,
   "metadata": {},
   "outputs": [],
   "source": [
    "octree, img_info = create_octree_from_image('2.png', 6)\n",
    "\n",
    "# make palette for specified number of colors\n",
    "if (OPTMIZED):\n",
    "    octree.make_optimized_palette(256)\n",
    "else:\n",
    "    octree.make_palette(256)\n",
    "\n",
    "\n",
    "# create palette for 256 color max and save to file\n",
    "create_palette_image(octree, 'example_palette.png')\n",
    "\n",
    "# save output image\n",
    "save_quantized_image(octree, 'example_quantized.png', img_info)\n",
    "\n",
    "# get the node id set\n",
    "# which allows to calculate the Jaccard similarity coefficient between two images\n",
    "id_set = octree.node_id_set()"
   ]
  },
  {
   "attachments": {},
   "cell_type": "markdown",
   "metadata": {},
   "source": [
    "### Comparison Pipeline"
   ]
  },
  {
   "cell_type": "code",
   "execution_count": 5,
   "metadata": {},
   "outputs": [],
   "source": [
    "RIPENESS_LEVELS = ['unripe', 'ripe', 'rotten']"
   ]
  },
  {
   "cell_type": "code",
   "execution_count": 11,
   "metadata": {},
   "outputs": [],
   "source": [
    "# Instantiate sample values\n",
    "samples_df = pd.read_csv('./dataset/samples.csv')\n",
    "sample_dict = { filename: create_node_id_set_from_image(filename, OPTMIZED, depth=6, palette_size=256) \n",
    "                for filename in samples_df['Filename'].values }"
   ]
  },
  {
   "cell_type": "code",
   "execution_count": 7,
   "metadata": {},
   "outputs": [],
   "source": [
    "# Read test values\n",
    "test_df = pd.read_csv('./dataset/test.csv')\n",
    "test_dict = { filename: create_node_id_set_from_image(filename, OPTMIZED, depth=6, palette_size=256) \n",
    "                for filename in test_df['Filename'].values }"
   ]
  },
  {
   "cell_type": "code",
   "execution_count": 12,
   "metadata": {},
   "outputs": [
    {
     "name": "stderr",
     "output_type": "stream",
     "text": [
      "  0%|          | 0/1 [00:00<?, ?it/s]C:\\Users\\joaoa\\AppData\\Local\\Temp\\ipykernel_1960\\3381989897.py:14: FutureWarning: The frame.append method is deprecated and will be removed from pandas in a future version. Use pandas.concat instead.\n",
      "  predictions_df = predictions_df.append({'Filename' : test_filename, 'Label': label}, ignore_index = True)\n",
      "100%|██████████| 1/1 [00:00<00:00, 314.11it/s]"
     ]
    },
    {
     "name": "stdout",
     "output_type": "stream",
     "text": [
      "4.png vs unripe: 0.5432692307692307\n",
      "4.png vs ripe: 0.4451901565995526\n",
      "4.png vs rotten: 0.35294117647058826\n"
     ]
    },
    {
     "name": "stderr",
     "output_type": "stream",
     "text": [
      "\n"
     ]
    }
   ],
   "source": [
    "predictions_df = pd.DataFrame(columns = ['Filename', 'Label'])\n",
    "\n",
    "for test_filename, test_id_set in tqdm(test_dict.items()):\n",
    "    ripeness_comparisons = {}\n",
    "    for ripeness_level in RIPENESS_LEVELS:\n",
    "        ripeness_list = []\n",
    "        for sample_filename in samples_df[samples_df['Label'] == ripeness_level]['Filename'].values:\n",
    "            sample_id_set = sample_dict[sample_filename]\n",
    "            ripeness_list.append(jaccard_similarity_coefficient(sample_id_set, test_id_set))\n",
    "        ripeness_comparisons[ripeness_level] = (sum(ripeness_list) / len(ripeness_list))\n",
    "        print(f'{test_filename} vs {ripeness_level}: {ripeness_comparisons[ripeness_level]}')\n",
    "    \n",
    "    label = max(ripeness_comparisons, key=ripeness_comparisons.get)\n",
    "    predictions_df = predictions_df.append({'Filename' : test_filename, 'Label': label}, ignore_index = True)\n",
    "\n",
    "current_datetime = datetime.now().strftime(\"%d_%m__%H_%M\")\n",
    "predictions_df.to_csv(f'./dataset/predictions/predictions_{current_datetime}.csv', index=False)"
   ]
  },
  {
   "cell_type": "code",
   "execution_count": 9,
   "metadata": {},
   "outputs": [
    {
     "name": "stdout",
     "output_type": "stream",
     "text": [
      "Accuracy: 0.0\n"
     ]
    }
   ],
   "source": [
    "# Calculate accuracy\n",
    "correct_predictions = 0\n",
    "for index, row in predictions_df.iterrows():\n",
    "    if (row['Label'] == test_df[test_df['Filename'] == row['Filename']]['Label'].values[0]):\n",
    "        correct_predictions += 1\n",
    "\n",
    "accuracy = correct_predictions / len(predictions_df)\n",
    "print(f'Accuracy: {accuracy}')"
   ]
  }
 ],
 "metadata": {
  "kernelspec": {
   "display_name": "Python 3",
   "language": "python",
   "name": "python3"
  },
  "language_info": {
   "codemirror_mode": {
    "name": "ipython",
    "version": 3
   },
   "file_extension": ".py",
   "mimetype": "text/x-python",
   "name": "python",
   "nbconvert_exporter": "python",
   "pygments_lexer": "ipython3",
   "version": "3.10.5"
  },
  "orig_nbformat": 4
 },
 "nbformat": 4,
 "nbformat_minor": 2
}
