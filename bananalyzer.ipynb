{
 "cells": [
  {
   "cell_type": "code",
   "execution_count": 21,
   "metadata": {},
   "outputs": [],
   "source": [
    "from PIL import Image\n",
    "from src.color import Color\n",
    "from rembg import remove\n",
    "from os import listdir\n",
    "from os.path import isfile, join\n",
    "# from octree_quantizer import OctreeQuantizer"
   ]
  },
  {
   "cell_type": "code",
   "execution_count": 19,
   "metadata": {},
   "outputs": [],
   "source": [
    "REMOVE_BACKGROUND = False"
   ]
  },
  {
   "attachments": {},
   "cell_type": "markdown",
   "metadata": {},
   "source": [
    "## Remove background from images"
   ]
  },
  {
   "cell_type": "code",
   "execution_count": 34,
   "metadata": {},
   "outputs": [],
   "source": [
    "# Remove backgroud from image\n",
    "if (REMOVE_BACKGROUND):\n",
    "    input_path = \"./dataset/bg/\"\n",
    "    output_path = \"./dataset/no_bg/\"\n",
    "\n",
    "    files = [f for f in listdir(input_path) if isfile(join(input_path, f))]\n",
    "\n",
    "    for idx,img in enumerate(files):\n",
    "        input = Image.open(join(input_path, img))\n",
    "        output = remove(input)\n",
    "        output.save(join(output_path, str(idx) + \".png\"))\n"
   ]
  },
  {
   "attachments": {},
   "cell_type": "markdown",
   "metadata": {},
   "source": [
    "## Load image to octree"
   ]
  },
  {
   "cell_type": "code",
   "execution_count": 14,
   "metadata": {},
   "outputs": [],
   "source": [
    "image = Image.open('./dataset/no_bg/1.png')\n",
    "pixels = image.load()\n",
    "width, height = image.size\n",
    "\n",
    "# add colors to the octree\n",
    "for j in range(height):\n",
    "    for i in range(width):\n",
    "        Color(*pixels[i, j])\n",
    "        ruuf = 0"
   ]
  }
 ],
 "metadata": {
  "kernelspec": {
   "display_name": "Python 3",
   "language": "python",
   "name": "python3"
  },
  "language_info": {
   "codemirror_mode": {
    "name": "ipython",
    "version": 3
   },
   "file_extension": ".py",
   "mimetype": "text/x-python",
   "name": "python",
   "nbconvert_exporter": "python",
   "pygments_lexer": "ipython3",
   "version": "3.10.1"
  },
  "orig_nbformat": 4
 },
 "nbformat": 4,
 "nbformat_minor": 2
}
