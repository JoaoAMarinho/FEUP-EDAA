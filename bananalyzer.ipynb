{
 "cells": [
  {
   "cell_type": "code",
   "execution_count": 5,
   "metadata": {},
   "outputs": [],
   "source": [
    "from PIL import Image\n",
    "from src.color import Color\n",
    "from src.utils import remove_background\n",
    "from src.utils import INPUT_PATH, OUTPUT_PATH, remove_background\n",
    "from os import listdir\n",
    "from os.path import isfile, join\n",
    "# from octree_quantizer import OctreeQuantizer"
   ]
  },
  {
   "cell_type": "code",
   "execution_count": 6,
   "metadata": {},
   "outputs": [],
   "source": [
    "REMOVE_BACKGROUND = True"
   ]
  },
  {
   "attachments": {},
   "cell_type": "markdown",
   "metadata": {},
   "source": [
    "## Remove background from images"
   ]
  },
  {
   "cell_type": "code",
   "execution_count": 7,
   "metadata": {},
   "outputs": [],
   "source": [
    "# Remove backgroud from image\n",
    "if (REMOVE_BACKGROUND):\n",
    "    files = [f for f in listdir(INPUT_PATH) if isfile(join(INPUT_PATH, f))]\n",
    "\n",
    "    for idx,img in enumerate(files):\n",
    "        remove_background(img)\n"
   ]
  },
  {
   "attachments": {},
   "cell_type": "markdown",
   "metadata": {},
   "source": [
    "## Load image to octree"
   ]
  },
  {
   "cell_type": "code",
   "execution_count": 8,
   "metadata": {},
   "outputs": [],
   "source": [
    "image = Image.open('./dataset/no_bg/1.png')\n",
    "pixels = image.load()\n",
    "width, height = image.size\n",
    "\n",
    "# add colors to the octree\n",
    "for j in range(height):\n",
    "    for i in range(width):\n",
    "        Color(*pixels[i, j])"
   ]
  }
 ],
 "metadata": {
  "kernelspec": {
   "display_name": "Python 3",
   "language": "python",
   "name": "python3"
  },
  "language_info": {
   "codemirror_mode": {
    "name": "ipython",
    "version": 3
   },
   "file_extension": ".py",
   "mimetype": "text/x-python",
   "name": "python",
   "nbconvert_exporter": "python",
   "pygments_lexer": "ipython3",
   "version": "3.10.8"
  },
  "orig_nbformat": 4
 },
 "nbformat": 4,
 "nbformat_minor": 2
}
