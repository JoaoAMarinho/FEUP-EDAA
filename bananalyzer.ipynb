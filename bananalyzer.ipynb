{
 "cells": [
  {
   "cell_type": "code",
   "execution_count": 1,
   "metadata": {},
   "outputs": [],
   "source": [
    "from src.utils import remove_background\n",
    "from src.utils import INPUT_PATH, OUTPUT_PATH, remove_background, create_octree_image, jaccard_similarity_coefficient, create_palette_image\n",
    "from os import listdir\n",
    "from os.path import isfile, join"
   ]
  },
  {
   "cell_type": "code",
   "execution_count": 2,
   "metadata": {},
   "outputs": [],
   "source": [
    "REMOVE_BACKGROUND = True"
   ]
  },
  {
   "attachments": {},
   "cell_type": "markdown",
   "metadata": {},
   "source": [
    "## Remove background from images"
   ]
  },
  {
   "cell_type": "code",
   "execution_count": 3,
   "metadata": {},
   "outputs": [
    {
     "name": "stderr",
     "output_type": "stream",
     "text": [
      "Downloading data from 'https://github.com/danielgatis/rembg/releases/download/v0.0.0/u2net.onnx' to file 'C:\\Users\\joaoa\\.u2net\\u2net.onnx'.\n",
      "100%|########################################| 176M/176M [00:00<00:00, 176GB/s]\n"
     ]
    }
   ],
   "source": [
    "# Remove backgroud from image\n",
    "if (REMOVE_BACKGROUND):\n",
    "    files = [f for f in listdir(INPUT_PATH) if isfile(join(INPUT_PATH, f))]\n",
    "\n",
    "    for idx,img in enumerate(files):\n",
    "        remove_background(img)\n"
   ]
  },
  {
   "attachments": {},
   "cell_type": "markdown",
   "metadata": {},
   "source": [
    "## Load image to octree"
   ]
  },
  {
   "cell_type": "code",
   "execution_count": 5,
   "metadata": {},
   "outputs": [],
   "source": [
    "octree, img_info = create_octree_image('./dataset/no_bg/2.png', 8)\n",
    "\n",
    "# 256 colors for 8 bits per pixel output image\n",
    "palette = octree.make_palette(256)\n",
    "\n",
    "# create palette for 256 color max and save to file\n",
    "create_palette_image(palette, './test_palette.png', 16, 16)\n",
    "\n",
    "\n",
    "# save output image\n",
    "out_image = Image.new('RGB', (width, height))\n",
    "out_pixels = out_image.load()\n",
    "\n",
    "for j in range(height):\n",
    "    for i in range(width):\n",
    "        index = octree.get_palette_index(Color(*pixels[i, j]))\n",
    "        color = palette[index]\n",
    "        out_pixels[i, j] = (color.red, color.green, color.blue)\n",
    "out_image.save('./test_out.png')"
   ]
  },
  {
   "cell_type": "code",
   "execution_count": 13,
   "metadata": {},
   "outputs": [
    {
     "name": "stdout",
     "output_type": "stream",
     "text": [
      "Jaccard similarity coefficient between 1 and 2:  0.26413255360623783\n",
      "Jaccard similarity coefficient between 1 and 3:  0.3231083844580777\n",
      "Jaccard similarity coefficient between 2 and 3:  0.2997061704211557\n"
     ]
    }
   ],
   "source": [
    "oct1 = create_octree_image('./dataset/no_bg/1.png', 6)\n",
    "oct2 = create_octree_image('./dataset/no_bg/2.png', 6)\n",
    "oct3 = create_octree_image('./dataset/no_bg/3.png', 6)\n",
    "\n",
    "\n",
    "# 256 colors for 8 bits per pixel output image\n",
    "palette1 = oct1.make_optimized_palette(512)\n",
    "palette2 = oct2.make_optimized_palette(512)\n",
    "palette3 = oct3.make_optimized_palette(512)\n",
    "\n",
    "set1 = oct1.node_id_set()\n",
    "set2 = oct2.node_id_set()\n",
    "set3 = oct3.node_id_set()\n",
    "\n",
    "print(\"Jaccard similarity coefficient between 1 and 2: \", jaccard_similarity_coefficient(set1,set2))\n",
    "print(\"Jaccard similarity coefficient between 1 and 3: \", jaccard_similarity_coefficient(set1,set3))\n",
    "print(\"Jaccard similarity coefficient between 2 and 3: \", jaccard_similarity_coefficient(set2,set3))"
   ]
  }
 ],
 "metadata": {
  "kernelspec": {
   "display_name": "Python 3",
   "language": "python",
   "name": "python3"
  },
  "language_info": {
   "codemirror_mode": {
    "name": "ipython",
    "version": 3
   },
   "file_extension": ".py",
   "mimetype": "text/x-python",
   "name": "python",
   "nbconvert_exporter": "python",
   "pygments_lexer": "ipython3",
   "version": "3.10.5"
  },
  "orig_nbformat": 4
 },
 "nbformat": 4,
 "nbformat_minor": 2
}
