{
 "cells": [
  {
   "cell_type": "code",
   "execution_count": 10,
   "metadata": {},
   "outputs": [],
   "source": [
    "from src.utils import *\n",
    "import pandas as pd\n",
    "from datetime import datetime\n",
    "from tqdm import tqdm"
   ]
  },
  {
   "cell_type": "code",
   "execution_count": 11,
   "metadata": {},
   "outputs": [],
   "source": [
    "REMOVE_BACKGROUND = True\n",
    "OPTMIZED = True"
   ]
  },
  {
   "attachments": {},
   "cell_type": "markdown",
   "metadata": {},
   "source": [
    "## Remove background from images"
   ]
  },
  {
   "cell_type": "code",
   "execution_count": 12,
   "metadata": {},
   "outputs": [],
   "source": [
    "# Remove backgroud from image\n",
    "if (REMOVE_BACKGROUND):\n",
    "    remove_backgrounds()"
   ]
  },
  {
   "attachments": {},
   "cell_type": "markdown",
   "metadata": {},
   "source": [
    "## Octree algorithm"
   ]
  },
  {
   "attachments": {},
   "cell_type": "markdown",
   "metadata": {},
   "source": [
    "### Octree image color quantization example"
   ]
  },
  {
   "cell_type": "code",
   "execution_count": 13,
   "metadata": {},
   "outputs": [],
   "source": [
    "octree, img_info = create_octree_from_image('2.png', 6)\n",
    "\n",
    "# make palette for specified number of colors\n",
    "if (OPTMIZED):\n",
    "    octree.make_optimized_palette(256)\n",
    "else:\n",
    "    octree.make_palette(256)\n",
    "\n",
    "\n",
    "# create palette for 256 color max and save to file\n",
    "create_palette_image(octree, 'example_palette.png')\n",
    "\n",
    "# save output image\n",
    "save_quantized_image(octree, 'example_quantized.png', img_info)\n",
    "\n",
    "# get the node id set\n",
    "# which allows to calculate the Jaccard similarity coefficient between two images\n",
    "id_set = octree.node_id_set()"
   ]
  },
  {
   "attachments": {},
   "cell_type": "markdown",
   "metadata": {},
   "source": [
    "### Comparison Pipeline"
   ]
  },
  {
   "cell_type": "code",
   "execution_count": 14,
   "metadata": {},
   "outputs": [],
   "source": [
    "RIPENESS_LEVELS = ['unripe', 'ripe', 'rotten']\n",
    "DEPTH_LEVELS = [4, 6, 8]\n",
    "PALETTE_SIZES = [64, 256, 512]"
   ]
  },
  {
   "cell_type": "code",
   "execution_count": 15,
   "metadata": {},
   "outputs": [],
   "source": [
    "# Instantiate sample values\n",
    "samples_df = pd.read_csv('./dataset/samples.csv')\n",
    "sample_dict = { filename: create_node_id_set_from_image(filename, OPTMIZED, depth=6, palette_size=256) \n",
    "                for filename in samples_df['Filename'].values }"
   ]
  },
  {
   "cell_type": "code",
   "execution_count": 16,
   "metadata": {},
   "outputs": [],
   "source": [
    "# Read test values\n",
    "test_df = pd.read_csv('./dataset/test.csv')\n",
    "test_dict = { filename: create_node_id_set_from_image(filename, OPTMIZED, depth=6, palette_size=256) \n",
    "                for filename in test_df['Filename'].values }"
   ]
  },
  {
   "cell_type": "code",
   "execution_count": 17,
   "metadata": {},
   "outputs": [
    {
     "name": "stderr",
     "output_type": "stream",
     "text": [
      "  0%|          | 0/1 [00:00<?, ?it/s]/var/folders/04/05jdn06x4bd37twbh8c046nr0000gn/T/ipykernel_1662/3381989897.py:14: FutureWarning: The frame.append method is deprecated and will be removed from pandas in a future version. Use pandas.concat instead.\n",
      "  predictions_df = predictions_df.append({'Filename' : test_filename, 'Label': label}, ignore_index = True)\n",
      "100%|██████████| 1/1 [00:00<00:00, 352.73it/s]"
     ]
    },
    {
     "name": "stdout",
     "output_type": "stream",
     "text": [
      "4.png vs unripe: 0.5432692307692307\n",
      "4.png vs ripe: 0.4451901565995526\n",
      "4.png vs rotten: 0.35294117647058826\n"
     ]
    },
    {
     "name": "stderr",
     "output_type": "stream",
     "text": [
      "\n"
     ]
    }
   ],
   "source": [
    "predictions_df = pd.DataFrame(columns = ['Filename', 'Label'])\n",
    "\n",
    "for test_filename, test_id_set in tqdm(test_dict.items()):\n",
    "    ripeness_comparisons = {}\n",
    "    for ripeness_level in RIPENESS_LEVELS:\n",
    "        ripeness_list = []\n",
    "        for sample_filename in samples_df[samples_df['Label'] == ripeness_level]['Filename'].values:\n",
    "            sample_id_set = sample_dict[sample_filename]\n",
    "            ripeness_list.append(jaccard_similarity_coefficient(sample_id_set, test_id_set))\n",
    "        ripeness_comparisons[ripeness_level] = (sum(ripeness_list) / len(ripeness_list))\n",
    "        print(f'{test_filename} vs {ripeness_level}: {ripeness_comparisons[ripeness_level]}')\n",
    "    \n",
    "    label = max(ripeness_comparisons, key=ripeness_comparisons.get)\n",
    "    predictions_df = predictions_df.append({'Filename' : test_filename, 'Label': label}, ignore_index = True)\n",
    "\n",
    "current_datetime = datetime.now().strftime(\"%d_%m__%H_%M\")\n",
    "predictions_df.to_csv(f'./dataset/predictions/predictions_{current_datetime}.csv', index=False)"
   ]
  },
  {
   "cell_type": "code",
   "execution_count": 18,
   "metadata": {},
   "outputs": [
    {
     "name": "stdout",
     "output_type": "stream",
     "text": [
      "Accuracy: 0.0\n"
     ]
    }
   ],
   "source": [
    "# Calculate accuracy\n",
    "correct_predictions = 0\n",
    "for index, row in predictions_df.iterrows():\n",
    "    if (row['Label'] == test_df[test_df['Filename'] == row['Filename']]['Label'].values[0]):\n",
    "        correct_predictions += 1\n",
    "\n",
    "accuracy = correct_predictions / len(predictions_df)\n",
    "print(f'Accuracy: {accuracy}')"
   ]
  },
  {
   "attachments": {},
   "cell_type": "markdown",
   "metadata": {},
   "source": [
    "### Compare palette sizes and depth levels"
   ]
  },
  {
   "cell_type": "code",
   "execution_count": 25,
   "metadata": {},
   "outputs": [
    {
     "name": "stdout",
     "output_type": "stream",
     "text": [
      "DEPTH: 4 & PALETTE SIZE: 64\n",
      "Instantiating sample values...\n",
      "Instantiating test values...\n",
      "Predicting...\n"
     ]
    },
    {
     "name": "stderr",
     "output_type": "stream",
     "text": [
      "  0%|          | 0/1 [00:00<?, ?it/s]/var/folders/04/05jdn06x4bd37twbh8c046nr0000gn/T/ipykernel_1662/3708550205.py:30: FutureWarning: The frame.append method is deprecated and will be removed from pandas in a future version. Use pandas.concat instead.\n",
      "  predictions_df = predictions_df.append({\n",
      "100%|██████████| 1/1 [00:00<00:00, 696.84it/s]"
     ]
    },
    {
     "name": "stdout",
     "output_type": "stream",
     "text": [
      "DEPTH: 4 & PALETTE SIZE: 256\n",
      "Instantiating sample values...\n"
     ]
    },
    {
     "name": "stderr",
     "output_type": "stream",
     "text": [
      "\n"
     ]
    },
    {
     "name": "stdout",
     "output_type": "stream",
     "text": [
      "Instantiating test values...\n",
      "Predicting...\n"
     ]
    },
    {
     "name": "stderr",
     "output_type": "stream",
     "text": [
      "  0%|          | 0/1 [00:00<?, ?it/s]/var/folders/04/05jdn06x4bd37twbh8c046nr0000gn/T/ipykernel_1662/3708550205.py:30: FutureWarning: The frame.append method is deprecated and will be removed from pandas in a future version. Use pandas.concat instead.\n",
      "  predictions_df = predictions_df.append({\n",
      "100%|██████████| 1/1 [00:00<00:00, 494.84it/s]"
     ]
    },
    {
     "name": "stdout",
     "output_type": "stream",
     "text": [
      "DEPTH: 4 & PALETTE SIZE: 512\n",
      "Instantiating sample values...\n"
     ]
    },
    {
     "name": "stderr",
     "output_type": "stream",
     "text": [
      "\n"
     ]
    },
    {
     "name": "stdout",
     "output_type": "stream",
     "text": [
      "Instantiating test values...\n",
      "Predicting...\n"
     ]
    },
    {
     "name": "stderr",
     "output_type": "stream",
     "text": [
      "  0%|          | 0/1 [00:00<?, ?it/s]/var/folders/04/05jdn06x4bd37twbh8c046nr0000gn/T/ipykernel_1662/3708550205.py:30: FutureWarning: The frame.append method is deprecated and will be removed from pandas in a future version. Use pandas.concat instead.\n",
      "  predictions_df = predictions_df.append({\n",
      "100%|██████████| 1/1 [00:00<00:00, 681.23it/s]"
     ]
    },
    {
     "name": "stdout",
     "output_type": "stream",
     "text": [
      "DEPTH: 6 & PALETTE SIZE: 64\n",
      "Instantiating sample values...\n"
     ]
    },
    {
     "name": "stderr",
     "output_type": "stream",
     "text": [
      "\n"
     ]
    },
    {
     "name": "stdout",
     "output_type": "stream",
     "text": [
      "Instantiating test values...\n",
      "Predicting...\n"
     ]
    },
    {
     "name": "stderr",
     "output_type": "stream",
     "text": [
      "  0%|          | 0/1 [00:00<?, ?it/s]/var/folders/04/05jdn06x4bd37twbh8c046nr0000gn/T/ipykernel_1662/3708550205.py:30: FutureWarning: The frame.append method is deprecated and will be removed from pandas in a future version. Use pandas.concat instead.\n",
      "  predictions_df = predictions_df.append({\n",
      "100%|██████████| 1/1 [00:00<00:00, 710.18it/s]"
     ]
    },
    {
     "name": "stdout",
     "output_type": "stream",
     "text": [
      "DEPTH: 6 & PALETTE SIZE: 256\n",
      "Instantiating sample values...\n"
     ]
    },
    {
     "name": "stderr",
     "output_type": "stream",
     "text": [
      "\n"
     ]
    },
    {
     "name": "stdout",
     "output_type": "stream",
     "text": [
      "Instantiating test values...\n",
      "Predicting...\n"
     ]
    },
    {
     "name": "stderr",
     "output_type": "stream",
     "text": [
      "  0%|          | 0/1 [00:00<?, ?it/s]/var/folders/04/05jdn06x4bd37twbh8c046nr0000gn/T/ipykernel_1662/3708550205.py:30: FutureWarning: The frame.append method is deprecated and will be removed from pandas in a future version. Use pandas.concat instead.\n",
      "  predictions_df = predictions_df.append({\n",
      "100%|██████████| 1/1 [00:00<00:00, 649.88it/s]"
     ]
    },
    {
     "name": "stdout",
     "output_type": "stream",
     "text": [
      "DEPTH: 6 & PALETTE SIZE: 512\n",
      "Instantiating sample values...\n"
     ]
    },
    {
     "name": "stderr",
     "output_type": "stream",
     "text": [
      "\n"
     ]
    },
    {
     "name": "stdout",
     "output_type": "stream",
     "text": [
      "Instantiating test values...\n",
      "Predicting...\n"
     ]
    },
    {
     "name": "stderr",
     "output_type": "stream",
     "text": [
      "  0%|          | 0/1 [00:00<?, ?it/s]/var/folders/04/05jdn06x4bd37twbh8c046nr0000gn/T/ipykernel_1662/3708550205.py:30: FutureWarning: The frame.append method is deprecated and will be removed from pandas in a future version. Use pandas.concat instead.\n",
      "  predictions_df = predictions_df.append({\n",
      "100%|██████████| 1/1 [00:00<00:00, 537.39it/s]"
     ]
    },
    {
     "name": "stdout",
     "output_type": "stream",
     "text": [
      "DEPTH: 8 & PALETTE SIZE: 64\n",
      "Instantiating sample values...\n"
     ]
    },
    {
     "name": "stderr",
     "output_type": "stream",
     "text": [
      "\n"
     ]
    },
    {
     "name": "stdout",
     "output_type": "stream",
     "text": [
      "Instantiating test values...\n",
      "Predicting...\n"
     ]
    },
    {
     "name": "stderr",
     "output_type": "stream",
     "text": [
      "  0%|          | 0/1 [00:00<?, ?it/s]/var/folders/04/05jdn06x4bd37twbh8c046nr0000gn/T/ipykernel_1662/3708550205.py:30: FutureWarning: The frame.append method is deprecated and will be removed from pandas in a future version. Use pandas.concat instead.\n",
      "  predictions_df = predictions_df.append({\n",
      "100%|██████████| 1/1 [00:00<00:00, 705.16it/s]"
     ]
    },
    {
     "name": "stdout",
     "output_type": "stream",
     "text": [
      "DEPTH: 8 & PALETTE SIZE: 256\n",
      "Instantiating sample values...\n"
     ]
    },
    {
     "name": "stderr",
     "output_type": "stream",
     "text": [
      "\n"
     ]
    },
    {
     "name": "stdout",
     "output_type": "stream",
     "text": [
      "Instantiating test values...\n",
      "Predicting...\n"
     ]
    },
    {
     "name": "stderr",
     "output_type": "stream",
     "text": [
      "  0%|          | 0/1 [00:00<?, ?it/s]/var/folders/04/05jdn06x4bd37twbh8c046nr0000gn/T/ipykernel_1662/3708550205.py:30: FutureWarning: The frame.append method is deprecated and will be removed from pandas in a future version. Use pandas.concat instead.\n",
      "  predictions_df = predictions_df.append({\n",
      "100%|██████████| 1/1 [00:00<00:00, 665.66it/s]"
     ]
    },
    {
     "name": "stdout",
     "output_type": "stream",
     "text": [
      "DEPTH: 8 & PALETTE SIZE: 512\n",
      "Instantiating sample values...\n"
     ]
    },
    {
     "name": "stderr",
     "output_type": "stream",
     "text": [
      "\n"
     ]
    },
    {
     "name": "stdout",
     "output_type": "stream",
     "text": [
      "Instantiating test values...\n",
      "Predicting...\n"
     ]
    },
    {
     "name": "stderr",
     "output_type": "stream",
     "text": [
      "  0%|          | 0/1 [00:00<?, ?it/s]/var/folders/04/05jdn06x4bd37twbh8c046nr0000gn/T/ipykernel_1662/3708550205.py:30: FutureWarning: The frame.append method is deprecated and will be removed from pandas in a future version. Use pandas.concat instead.\n",
      "  predictions_df = predictions_df.append({\n",
      "100%|██████████| 1/1 [00:00<00:00, 657.52it/s]\n"
     ]
    }
   ],
   "source": [
    "predictions_df = pd.DataFrame(columns = ['Filename', 'Label', 'Depth', 'PaletteSize', 'Unripe', 'Ripe', 'Rotten'])\n",
    "\n",
    "for depth in DEPTH_LEVELS:\n",
    "      for palette_size in PALETTE_SIZES:\n",
    "        print(f'DEPTH: {depth} & PALETTE SIZE: {palette_size}')\n",
    "\n",
    "        # Instantiate sample values\n",
    "        print('Instantiating sample values...')\n",
    "        samples_df = pd.read_csv('./dataset/samples.csv')\n",
    "        sample_dict = { filename: create_node_id_set_from_image(filename, OPTMIZED, depth, palette_size) \n",
    "                        for filename in samples_df['Filename'].values }\n",
    "        \n",
    "        # Read test values\n",
    "        print('Instantiating test values...')\n",
    "        test_df = pd.read_csv('./dataset/test.csv')\n",
    "        test_dict = { filename: create_node_id_set_from_image(filename, OPTMIZED, depth, palette_size) \n",
    "                        for filename in test_df['Filename'].values }\n",
    "        \n",
    "        print('Predicting...')\n",
    "        for test_filename, test_id_set in tqdm(test_dict.items()):\n",
    "            ripeness_comparisons = {}\n",
    "            for ripeness_level in RIPENESS_LEVELS:\n",
    "                ripeness_list = []\n",
    "                for sample_filename in samples_df[samples_df['Label'] == ripeness_level]['Filename'].values:\n",
    "                    sample_id_set = sample_dict[sample_filename]\n",
    "                    ripeness_list.append(jaccard_similarity_coefficient(sample_id_set, test_id_set))\n",
    "                ripeness_comparisons[ripeness_level] = (sum(ripeness_list) / len(ripeness_list))\n",
    "            \n",
    "            label = max(ripeness_comparisons, key=ripeness_comparisons.get)\n",
    "            predictions_df = predictions_df.append({\n",
    "                'Filename' : test_filename, \n",
    "                'Label': label, \n",
    "                'Depth': depth, \n",
    "                'PaletteSize': palette_size, \n",
    "                'Unripe': ripeness_comparisons['unripe'],\n",
    "                'Ripe': ripeness_comparisons['ripe'],\n",
    "                'Rotten': ripeness_comparisons['rotten']\n",
    "            }, ignore_index = True)\n",
    "            \n",
    "current_datetime = datetime.now().strftime(\"%d_%m__%H_%M\")\n",
    "predictions_df.to_csv(f'./dataset/predictions/comparisons/predictions_{current_datetime}.csv', index=False)"
   ]
  }
 ],
 "metadata": {
  "kernelspec": {
   "display_name": "Python 3",
   "language": "python",
   "name": "python3"
  },
  "language_info": {
   "codemirror_mode": {
    "name": "ipython",
    "version": 3
   },
   "file_extension": ".py",
   "mimetype": "text/x-python",
   "name": "python",
   "nbconvert_exporter": "python",
   "pygments_lexer": "ipython3",
   "version": "3.10.8"
  },
  "orig_nbformat": 4
 },
 "nbformat": 4,
 "nbformat_minor": 2
}
